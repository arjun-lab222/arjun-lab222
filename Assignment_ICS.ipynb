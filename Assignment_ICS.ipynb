{
  "nbformat": 4,
  "nbformat_minor": 0,
  "metadata": {
    "colab": {
      "provenance": [],
      "authorship_tag": "ABX9TyPda7HjtLwZbd489thrPYYF",
      "include_colab_link": true
    },
    "kernelspec": {
      "name": "python3",
      "display_name": "Python 3"
    },
    "language_info": {
      "name": "python"
    }
  },
  "cells": [
    {
      "cell_type": "markdown",
      "metadata": {
        "id": "view-in-github",
        "colab_type": "text"
      },
      "source": [
        "<a href=\"https://colab.research.google.com/github/arjun-lab222/arjun-lab222/blob/main/Assignment_ICS.ipynb\" target=\"_parent\"><img src=\"https://colab.research.google.com/assets/colab-badge.svg\" alt=\"Open In Colab\"/></a>"
      ]
    },
    {
      "cell_type": "markdown",
      "source": [
        "# **VERNAM CIPHER**"
      ],
      "metadata": {
        "id": "R4CdBUWu_gCw"
      }
    },
    {
      "cell_type": "markdown",
      "source": [
        "***ABOUT***"
      ],
      "metadata": {
        "id": "deaX3WHxBKDW"
      }
    },
    {
      "cell_type": "markdown",
      "source": [
        "\n",
        "*   Vernam cipher found by Gilbert Sanford Vernam in 1960, It is a classical    cryptography also still practical because it uses random key , random keys are difficult to break.\n",
        "\n",
        "*   No machines exist to produce real random numbers today is a challenge."
      ],
      "metadata": {
        "id": "M7m_IImtAHeM"
      }
    },
    {
      "cell_type": "markdown",
      "source": [
        "***WORKING***"
      ],
      "metadata": {
        "id": "VftbbwqUBkw7"
      }
    },
    {
      "cell_type": "markdown",
      "source": [
        "\n",
        "*ENCRYPTION*\n",
        "\n",
        "\n",
        "*   In python we import random library for creating random binary string of same length as of plain text binary, this produced key is noted during encryption.\n",
        "\n",
        "*   The random key will directly xor with the input plain text to produce cipher text\n",
        "\n",
        "\n",
        "\n",
        "*DECRYPTION*\n",
        "\n",
        "\n",
        "*   The cipher text and the noted random string is given as input to get plain text.\n",
        "\n",
        "\n"
      ],
      "metadata": {
        "id": "gH4jkvpABv-q"
      }
    },
    {
      "cell_type": "code",
      "source": [
        "# VERNAM CIPHER\n",
        "\n",
        "import random\n",
        "import chardet\n",
        "#---------------------COMMON----------\n",
        "def txttobin(txt):\n",
        "    k = ''\n",
        "    for i in txt:\n",
        "        ascbin = bin(ord(i))\n",
        "        binno = ascbin[2:]\n",
        "        byte = binno.zfill(8)\n",
        "        k += byte\n",
        "    return k\n",
        "\n",
        "def bintotxt(bin1):\n",
        "    text = ''\n",
        "    for i in range(0, len(bin1), 8):\n",
        "        byte = bin1[i:i+8]\n",
        "        text += chr(int(byte, 2))\n",
        "    return text\n",
        "\n",
        "def opxor(A):\n",
        "    K=0\n",
        "    l=len(A[0])\n",
        "    for i in A:\n",
        "        K^=int(i,2)\n",
        "\n",
        "    Kbin=bin(K).replace(\"0b\",\"\").zfill(l)\n",
        "    # print(Kbin)\n",
        "    return Kbin\n",
        "\n",
        "def char_set(txt):\n",
        "    ch=chardet.detect(txt.encode())\n",
        "    return ch['encoding']\n",
        "#-----------------------COMMON----------------\n",
        "\n",
        "#-----------------------encrypty---------------\n",
        "def keygen(bint):\n",
        "    key=''\n",
        "    for i in range(len(bint)):\n",
        "        key+=random.choice('01')\n",
        "    return key\n",
        "\n",
        "def keytext(bint):\n",
        "    keyt=bintotext(bint)\n",
        "    return keyt\n",
        "\n",
        "def cipherbin(bint,key):\n",
        "    A=[]\n",
        "    A.append(bint)\n",
        "    A.append(key)\n",
        "    cipherbin=opxor(A)\n",
        "    return cipherbin\n",
        "\n",
        "def encrypt(txt):\n",
        "    global ciphertxt\n",
        "    global keyt\n",
        "    bint=txttobin(txt)\n",
        "    keybin=keygen(bint)\n",
        "    keyt=bintotxt(keybin)\n",
        "    cipherbin1=cipherbin(bint,keybin)\n",
        "    ciphertxt=bintotxt(cipherbin1)\n",
        "\n",
        "    print(\"bint:\",bint)\n",
        "    print(\"keybin:\",keybin)\n",
        "    print(\"\\ncipherbin:\",cipherbin1)\n",
        "    chkey=char_set(keyt)\n",
        "    print(\"random-key:\",keyt,\"charset\",chkey)\n",
        "    chcip=char_set(ciphertxt)\n",
        "    print(\"ciphertxt:\",ciphertxt,\"charset\",chkey)\n",
        "\n",
        "\n",
        "#------------------------encrypt------------------\n",
        "\n",
        "#-----------------------decrypt------------------\n",
        "\n",
        "\n",
        "def decipherbin(bint,key):\n",
        "    A=[]\n",
        "    A.append(bint)\n",
        "    A.append(key)\n",
        "    decipherbin=opxor(A)\n",
        "    return decipherbin\n",
        "\n",
        "# def keybin(key)\n",
        "\n",
        "def decrypt(txt,key):\n",
        "    bint=txttobin(txt)\n",
        "    keybin=txttobin(key)\n",
        "    print('keybin:',keybin)\n",
        "    decipherbin1=decipherbin(bint,keybin)\n",
        "    deciphertxt=bintotxt(decipherbin1)\n",
        "\n",
        "    print(\"bint:\",bint)\n",
        "    # print(\"keyt:\",key)\n",
        "    print(\"decipherbin:\",decipherbin1)\n",
        "    print(\"\\nciphertext:\",txt)\n",
        "    print(\"Input-key:\",key)\n",
        "    print(\"\\nplaintext:\",deciphertxt)\n",
        "\n",
        "#--------------------------decrypt-----------------\n",
        "\n",
        "\n",
        "k=str(input(\"\\nEnter choice:1-encryption and decryption 2-decryption\"))\n",
        "if(k=='1'):\n",
        "    print(\"\\n\")\n",
        "    txt=str(input(\"\\nEnter plaintext:\"))\n",
        "    txt=txt\n",
        "    print(\"\\nEncryption\")\n",
        "    encrypt(txt)\n",
        "\n",
        "    print(\"\\nDecryption\")\n",
        "    decrypt(ciphertxt,keyt)\n",
        "\n",
        "elif(k=='2'):\n",
        "    txt=str(input(\"Enter ciphertext:\"))\n",
        "    key=str(input(\"Enter key:\"))\n",
        "    decrypt(txt,key)\n",
        "\n",
        "\n",
        "\n",
        "\n",
        "\n"
      ],
      "metadata": {
        "colab": {
          "base_uri": "https://localhost:8080/"
        },
        "id": "AUUN-k0KPDxP",
        "outputId": "eeeb2935-51be-4045-e00e-16a6c9957b43"
      },
      "execution_count": null,
      "outputs": [
        {
          "output_type": "stream",
          "name": "stdout",
          "text": [
            "\n",
            "Enter choice:1-encryption and decryption 2-decryption1\n",
            "\n",
            "\n",
            "\n",
            "Enter plaintext:hello world!\n",
            "\n",
            "Encryption\n",
            "bint: 011010000110010101101100011011000110111100100000011101110110111101110010011011000110010000100001\n",
            "keybin: 110001000010101100111110000110100100101000100010010100111010011100101000110000101001101110001000\n",
            "\n",
            "cipherbin: 101011000100111001010010011101100010010100000010001001001100100001011010101011101111111110101001\n",
            "random-key: Ä+>\u001aJ\"S§(Â charset utf-8\n",
            "ciphertxt: ¬NRv%\u0002$ÈZ®ÿ© charset utf-8\n",
            "\n",
            "Decryption\n",
            "keybin: 110001000010101100111110000110100100101000100010010100111010011100101000110000101001101110001000\n",
            "bint: 101011000100111001010010011101100010010100000010001001001100100001011010101011101111111110101001\n",
            "decipherbin: 011010000110010101101100011011000110111100100000011101110110111101110010011011000110010000100001\n",
            "\n",
            "ciphertext: ¬NRv%\u0002$ÈZ®ÿ©\n",
            "Input-key: Ä+>\u001aJ\"S§(Â\n",
            "\n",
            "plaintext: hello world!\n"
          ]
        }
      ]
    },
    {
      "cell_type": "markdown",
      "source": [
        "# **CEASER CIPHER**"
      ],
      "metadata": {
        "id": "OI5AqtrkLqAO"
      }
    },
    {
      "cell_type": "markdown",
      "source": [
        "***ABOUT***"
      ],
      "metadata": {
        "id": "W_wpTBgmL-jT"
      }
    },
    {
      "cell_type": "markdown",
      "source": [
        "\n",
        "\n",
        "*   Invented by Julius Caesar , it is a shift cipher.\n",
        "\n",
        "*   The frequency of reoccuring alphabets is a risk can be break when correct letter is guessed.\n",
        "\n",
        "*   The each character in cipher text is a left shift of 4 characters from plain text\n",
        "\n",
        "\n",
        "\n",
        "\n"
      ],
      "metadata": {
        "id": "XzbzHhxUMGuw"
      }
    },
    {
      "cell_type": "markdown",
      "source": [
        "***WORKING***"
      ],
      "metadata": {
        "id": "F8gNmOJ2OW7I"
      }
    },
    {
      "cell_type": "markdown",
      "source": [
        "\n",
        "*ENCRYPTION*\n",
        "\n",
        "\n",
        "*   The ASCII number of each character in plain text is obtained using ord() function.\n",
        "\n",
        "*   Now Adding 4 to it and changing it back to ASCII value using chr() function to obtain ciphertext\n",
        "\n",
        "\n",
        "\n",
        "*DECRYPTION*\n",
        "\n",
        "\n",
        "*   The cipher text is given as input, ASCII number of each character is taken.\n",
        "\n",
        "*   Now reducing 4 from it return back to plain text\n",
        "\n",
        "\n",
        "\n",
        "\n",
        "\n",
        "\n",
        "\n"
      ],
      "metadata": {
        "id": "STlnJWYHOe26"
      }
    },
    {
      "cell_type": "code",
      "source": [
        "def encrypt(str1):\n",
        "    enc=\"\"\n",
        "    key=4\n",
        "    for i in str1:\n",
        "        ascno=ord(i)\n",
        "        enc+=chr(ascno + key)\n",
        "    return enc\n",
        "\n",
        "def decrypt(enc):\n",
        "\n",
        "    dec=\"\"\n",
        "    key=4\n",
        "    for i in enc:\n",
        "        ascno=ord(i)\n",
        "        dec+=chr(ascno-key)\n",
        "    return dec\n",
        "\n",
        "str1= input(\"Enter plain text:\")\n",
        "enc=encrypt(str1)\n",
        "dec=decrypt(str(enc))\n",
        "\n",
        "print(\"InputText:\",str1,\"\\nEncrypted text:\",enc,\"\\nDecrypted text:\",dec)"
      ],
      "metadata": {
        "colab": {
          "base_uri": "https://localhost:8080/"
        },
        "id": "xyHdZL6JLnUI",
        "outputId": "07ae3940-723f-4a55-c688-112345c70faa"
      },
      "execution_count": 9,
      "outputs": [
        {
          "output_type": "stream",
          "name": "stdout",
          "text": [
            "Enter plain text:HELLO\n",
            "InputText: HELLO \n",
            "Encrypted text: LIPPS \n",
            "Decrypted text: HELLO\n"
          ]
        }
      ]
    },
    {
      "cell_type": "markdown",
      "source": [
        "# **HASH FUNCTION**"
      ],
      "metadata": {
        "id": "etJkjfUHC1dL"
      }
    },
    {
      "cell_type": "markdown",
      "source": [
        "\n",
        "*   The below hash function is (md5 message digest 5) hash function.\n",
        "*   Invented by Ronald Rivest in 1991 to replace md4, md5 is more resistant against *collision-attack compared to md4.  \n",
        "\n",
        "*collision-attack :different strings giving the same hash.\n",
        "\n"
      ],
      "metadata": {
        "id": "BPzgNzNaEurR"
      }
    },
    {
      "cell_type": "code",
      "source": [
        "# HASH FUNCTION\n",
        "import hashlib\n",
        "def md5hash(bin1):\n",
        "\n",
        "    hash_md5=hashlib.md5(bin1.encode()).hexdigest()\n",
        "    return hash_md5\n",
        "\n",
        "text=input('Enter string  :')\n",
        "hash=md5hash(text)\n",
        "print('text is: ',text,'<-> hash is', hash)\n"
      ],
      "metadata": {
        "id": "oCqoDqF5TrK8",
        "colab": {
          "base_uri": "https://localhost:8080/"
        },
        "outputId": "75db850f-4b48-48a1-c419-90bb27c30917"
      },
      "execution_count": 5,
      "outputs": [
        {
          "output_type": "stream",
          "name": "stdout",
          "text": [
            "Enter string  :good morning\n",
            "text is:  good morning <-> hash is 2b849500e4585dab4196ec9a415edf8f\n"
          ]
        }
      ]
    }
  ]
}